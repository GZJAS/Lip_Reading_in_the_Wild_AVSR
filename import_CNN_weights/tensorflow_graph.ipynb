{
 "cells": [
  {
   "cell_type": "code",
   "execution_count": 25,
   "metadata": {
    "collapsed": true
   },
   "outputs": [],
   "source": [
    "import tensorflow as tf\n",
    "import numpy as np\n",
    "from tensorflow.python.platform import gfile"
   ]
  },
  {
   "cell_type": "code",
   "execution_count": 9,
   "metadata": {
    "collapsed": true
   },
   "outputs": [],
   "source": [
    "syncnet_cnn_graph = tf.get_default_graph()\n",
    "with syncnet_cnn_graph.as_default():\n",
    "    od_graph_def = tf.GraphDef()\n",
    "    with tf.gfile.GFile('./syncnet_lip_model.h5.pb', 'rb') as fid:\n",
    "          serialized_graph = fid.read()\n",
    "          od_graph_def.ParseFromString(serialized_graph)\n",
    "          tf.import_graph_def(od_graph_def, name='')"
   ]
  },
  {
   "cell_type": "code",
   "execution_count": 28,
   "metadata": {},
   "outputs": [],
   "source": [
    "## Visualize graph in tensorboard\n",
    "\n",
    "with tf.Session() as sess:\n",
    "    model_filename ='syncnet_lip_model.h5.pb'\n",
    "    with gfile.FastGFile(model_filename, 'rb') as f:\n",
    "        graph_def = tf.GraphDef()\n",
    "        graph_def.ParseFromString(f.read())\n",
    "        g_in = tf.import_graph_def(graph_def)\n",
    "LOGDIR='C:/Users/NG76224/Documents/chatbot/chatbot/AVSR/AVSR/tmp/logdir'\n",
    "train_writer = tf.summary.FileWriter(LOGDIR)\n",
    "train_writer.add_graph(sess.graph)"
   ]
  },
  {
   "cell_type": "code",
   "execution_count": 10,
   "metadata": {
    "scrolled": true
   },
   "outputs": [
    {
     "name": "stdout",
     "output_type": "stream",
     "text": [
      "['conv1_lip_input', 'conv1_lip/kernel', 'conv1_lip/kernel/read', 'conv1_lip/bias', 'conv1_lip/bias/read', 'conv1_lip/convolution', 'conv1_lip/BiasAdd', 'bn1_lip/gamma', 'bn1_lip/gamma/read', 'bn1_lip/beta', 'bn1_lip/beta/read', 'bn1_lip/moving_mean', 'bn1_lip/moving_mean/read', 'bn1_lip/moving_variance', 'bn1_lip/moving_variance/read', 'bn1_lip/batchnorm_1/add/y', 'bn1_lip/batchnorm_1/add', 'bn1_lip/batchnorm_1/Rsqrt', 'bn1_lip/batchnorm_1/mul', 'bn1_lip/batchnorm_1/mul_1', 'bn1_lip/batchnorm_1/mul_2', 'bn1_lip/batchnorm_1/sub', 'bn1_lip/batchnorm_1/add_1', 'relu1_lip/Relu', 'pool1_lip/MaxPool', 'conv2_lip/kernel', 'conv2_lip/kernel/read', 'conv2_lip/bias', 'conv2_lip/bias/read', 'conv2_lip/convolution', 'conv2_lip/BiasAdd', 'bn2_lip/gamma', 'bn2_lip/gamma/read', 'bn2_lip/beta', 'bn2_lip/beta/read', 'bn2_lip/moving_mean', 'bn2_lip/moving_mean/read', 'bn2_lip/moving_variance', 'bn2_lip/moving_variance/read', 'bn2_lip/batchnorm_1/add/y', 'bn2_lip/batchnorm_1/add', 'bn2_lip/batchnorm_1/Rsqrt', 'bn2_lip/batchnorm_1/mul', 'bn2_lip/batchnorm_1/mul_1', 'bn2_lip/batchnorm_1/mul_2', 'bn2_lip/batchnorm_1/sub', 'bn2_lip/batchnorm_1/add_1', 'relu2_lip/Relu', 'pool2_lip/MaxPool', 'conv3_lip/kernel', 'conv3_lip/kernel/read', 'conv3_lip/bias', 'conv3_lip/bias/read', 'conv3_lip/convolution', 'conv3_lip/BiasAdd', 'bn3_lip/gamma', 'bn3_lip/gamma/read', 'bn3_lip/beta', 'bn3_lip/beta/read', 'bn3_lip/moving_mean', 'bn3_lip/moving_mean/read', 'bn3_lip/moving_variance', 'bn3_lip/moving_variance/read', 'bn3_lip/batchnorm_1/add/y', 'bn3_lip/batchnorm_1/add', 'bn3_lip/batchnorm_1/Rsqrt', 'bn3_lip/batchnorm_1/mul', 'bn3_lip/batchnorm_1/mul_1', 'bn3_lip/batchnorm_1/mul_2', 'bn3_lip/batchnorm_1/sub', 'bn3_lip/batchnorm_1/add_1', 'relu3_lip/Relu', 'conv4_lip/kernel', 'conv4_lip/kernel/read', 'conv4_lip/bias', 'conv4_lip/bias/read', 'conv4_lip/convolution', 'conv4_lip/BiasAdd', 'bn4_lip/gamma', 'bn4_lip/gamma/read', 'bn4_lip/beta', 'bn4_lip/beta/read', 'bn4_lip/moving_mean', 'bn4_lip/moving_mean/read', 'bn4_lip/moving_variance', 'bn4_lip/moving_variance/read', 'bn4_lip/batchnorm_1/add/y', 'bn4_lip/batchnorm_1/add', 'bn4_lip/batchnorm_1/Rsqrt', 'bn4_lip/batchnorm_1/mul', 'bn4_lip/batchnorm_1/mul_1', 'bn4_lip/batchnorm_1/mul_2', 'bn4_lip/batchnorm_1/sub', 'bn4_lip/batchnorm_1/add_1', 'relu4_lip/Relu', 'conv5_lip/kernel', 'conv5_lip/kernel/read', 'conv5_lip/bias', 'conv5_lip/bias/read', 'conv5_lip/convolution', 'conv5_lip/BiasAdd', 'bn5_lip/gamma', 'bn5_lip/gamma/read', 'bn5_lip/beta', 'bn5_lip/beta/read', 'bn5_lip/moving_mean', 'bn5_lip/moving_mean/read', 'bn5_lip/moving_variance', 'bn5_lip/moving_variance/read', 'bn5_lip/batchnorm_1/add/y', 'bn5_lip/batchnorm_1/add', 'bn5_lip/batchnorm_1/Rsqrt', 'bn5_lip/batchnorm_1/mul', 'bn5_lip/batchnorm_1/mul_1', 'bn5_lip/batchnorm_1/mul_2', 'bn5_lip/batchnorm_1/sub', 'bn5_lip/batchnorm_1/add_1', 'relu5_lip/Relu', 'pool5_lip/MaxPool', 'flatten_lip/Shape', 'flatten_lip/strided_slice/stack', 'flatten_lip/strided_slice/stack_1', 'flatten_lip/strided_slice/stack_2', 'flatten_lip/strided_slice', 'flatten_lip/Const', 'flatten_lip/Prod', 'flatten_lip/stack/0', 'flatten_lip/stack', 'flatten_lip/Reshape', 'fc6_lip/kernel', 'fc6_lip/kernel/read', 'fc6_lip/bias', 'fc6_lip/bias/read', 'fc6_lip/MatMul', 'fc6_lip/BiasAdd', 'bn6_lip/gamma', 'bn6_lip/gamma/read', 'bn6_lip/beta', 'bn6_lip/beta/read', 'bn6_lip/moving_mean', 'bn6_lip/moving_mean/read', 'bn6_lip/moving_variance', 'bn6_lip/moving_variance/read', 'bn6_lip/batchnorm_1/add/y', 'bn6_lip/batchnorm_1/add', 'bn6_lip/batchnorm_1/Rsqrt', 'bn6_lip/batchnorm_1/mul', 'bn6_lip/batchnorm_1/mul_1', 'bn6_lip/batchnorm_1/mul_2', 'bn6_lip/batchnorm_1/sub', 'bn6_lip/batchnorm_1/add_1', 'relu6_lip/Relu', 'fc7_lip/kernel', 'fc7_lip/kernel/read', 'fc7_lip/bias', 'fc7_lip/bias/read', 'fc7_lip/MatMul', 'fc7_lip/BiasAdd', 'bn7_lip/gamma', 'bn7_lip/gamma/read', 'bn7_lip/beta', 'bn7_lip/beta/read', 'bn7_lip/moving_mean', 'bn7_lip/moving_mean/read', 'bn7_lip/moving_variance', 'bn7_lip/moving_variance/read', 'bn7_lip/batchnorm_1/add/y', 'bn7_lip/batchnorm_1/add', 'bn7_lip/batchnorm_1/Rsqrt', 'bn7_lip/batchnorm_1/mul', 'bn7_lip/batchnorm_1/mul_1', 'bn7_lip/batchnorm_1/mul_2', 'bn7_lip/batchnorm_1/sub', 'bn7_lip/batchnorm_1/add_1', 'relu7_lip/Relu', 'output_node0']\n"
     ]
    }
   ],
   "source": [
    "print ([n.name for n in syncnet_cnn_graph.as_graph_def().node])"
   ]
  },
  {
   "cell_type": "code",
   "execution_count": 20,
   "metadata": {},
   "outputs": [],
   "source": [
    "input_node = syncnet_cnn_graph.get_tensor_by_name('conv1_lip_input:0')\n",
    "output_node = syncnet_cnn_graph.get_tensor_by_name('output_node0:0')"
   ]
  },
  {
   "cell_type": "code",
   "execution_count": 22,
   "metadata": {},
   "outputs": [
    {
     "data": {
      "text/plain": [
       "<tf.Tensor 'conv1_lip_input:0' shape=(?, 112, 112, 5) dtype=float32>"
      ]
     },
     "execution_count": 22,
     "metadata": {},
     "output_type": "execute_result"
    }
   ],
   "source": [
    "input_node"
   ]
  },
  {
   "cell_type": "code",
   "execution_count": 23,
   "metadata": {},
   "outputs": [
    {
     "data": {
      "text/plain": [
       "<tf.Tensor 'output_node0:0' shape=(?, 128) dtype=float32>"
      ]
     },
     "execution_count": 23,
     "metadata": {},
     "output_type": "execute_result"
    }
   ],
   "source": [
    "output_node"
   ]
  },
  {
   "cell_type": "code",
   "execution_count": null,
   "metadata": {
    "collapsed": true
   },
   "outputs": [],
   "source": []
  }
 ],
 "metadata": {
  "kernelspec": {
   "display_name": "Python 3",
   "language": "python",
   "name": "python3"
  },
  "language_info": {
   "codemirror_mode": {
    "name": "ipython",
    "version": 3
   },
   "file_extension": ".py",
   "mimetype": "text/x-python",
   "name": "python",
   "nbconvert_exporter": "python",
   "pygments_lexer": "ipython3",
   "version": "3.6.1"
  }
 },
 "nbformat": 4,
 "nbformat_minor": 2
}
