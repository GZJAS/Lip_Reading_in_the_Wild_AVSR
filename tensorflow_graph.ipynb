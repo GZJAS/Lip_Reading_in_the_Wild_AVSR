{
 "cells": [
  {
   "cell_type": "code",
   "execution_count": 1,
   "metadata": {
    "collapsed": true
   },
   "outputs": [],
   "source": [
    "import tensorflow as tf\n",
    "import numpy as np\n",
    "from tensorflow.python.platform import gfile"
   ]
  },
  {
   "cell_type": "code",
   "execution_count": 2,
   "metadata": {
    "collapsed": true
   },
   "outputs": [],
   "source": [
    "# Load tensorflow inference protobuf file\n",
    "\n",
    "syncnet_cnn_graph = tf.get_default_graph()\n",
    "with syncnet_cnn_graph.as_default():\n",
    "    od_graph_def = tf.GraphDef()\n",
    "    with tf.gfile.GFile('./syncnet_lip_model.h5.pb', 'rb') as fid:\n",
    "          serialized_graph = fid.read()\n",
    "          od_graph_def.ParseFromString(serialized_graph)\n",
    "          tf.import_graph_def(od_graph_def, name='')"
   ]
  },
  {
   "cell_type": "code",
   "execution_count": 3,
   "metadata": {
    "collapsed": true
   },
   "outputs": [],
   "source": [
    "# Visualize graph in tensorboard\n",
    "\n",
    "with tf.Session() as sess:\n",
    "    model_filename ='syncnet_lip_model.h5.pb'\n",
    "    with gfile.FastGFile(model_filename, 'rb') as f:\n",
    "        graph_def = tf.GraphDef()\n",
    "        graph_def.ParseFromString(f.read())\n",
    "        g_in = tf.import_graph_def(graph_def)\n",
    "LOGDIR='/media/ajinkya/3E946D7A67A69D29/Users/batman/Documents/GSoC/LRW_AVSR/Creating_tf_graph/tmp/logdir'\n",
    "train_writer = tf.summary.FileWriter(LOGDIR)\n",
    "train_writer.add_graph(sess.graph)"
   ]
  },
  {
   "cell_type": "code",
   "execution_count": 4,
   "metadata": {
    "collapsed": true
   },
   "outputs": [],
   "source": [
    "input_node = syncnet_cnn_graph.get_tensor_by_name('conv1_lip_input:0')"
   ]
  },
  {
   "cell_type": "code",
   "execution_count": 5,
   "metadata": {},
   "outputs": [
    {
     "data": {
      "text/plain": [
       "<tf.Tensor 'conv1_lip_input:0' shape=(?, 112, 112, 5) dtype=float32>"
      ]
     },
     "execution_count": 5,
     "metadata": {},
     "output_type": "execute_result"
    }
   ],
   "source": [
    "input_node"
   ]
  },
  {
   "cell_type": "code",
   "execution_count": 10,
   "metadata": {},
   "outputs": [
    {
     "data": {
      "text/plain": [
       "<tf.Tensor 'fc6_lip/BiasAdd:0' shape=(?, 256) dtype=float32>"
      ]
     },
     "execution_count": 10,
     "metadata": {},
     "output_type": "execute_result"
    }
   ],
   "source": [
    "output_node = syncnet_cnn_graph.get_tensor_by_name('fc6_lip/BiasAdd:0')\n",
    "output_node "
   ]
  },
  {
   "cell_type": "code",
   "execution_count": 8,
   "metadata": {},
   "outputs": [
    {
     "data": {
      "text/plain": [
       "<tf.Tensor 'fc6_lip/BiasAdd:0' shape=(?, 256) dtype=float32>"
      ]
     },
     "execution_count": 8,
     "metadata": {},
     "output_type": "execute_result"
    }
   ],
   "source": [
    "output_node = syncnet_cnn_graph.get_tensor_by_name('fc6_lip/BiasAdd:0')\n",
    "output_node "
   ]
  },
  {
   "cell_type": "code",
   "execution_count": null,
   "metadata": {
    "collapsed": true
   },
   "outputs": [],
   "source": [
    "'''\n",
    "## Example feeding and getting predictions:\n",
    "\n",
    "image_tensor = detection_graph.get_tensor_by_name('image_tensor:0')\n",
    "\n",
    "boxes = detection_graph.get_tensor_by_name('detection_boxes:0')\n",
    "\n",
    "scores = detection_graph.get_tensor_by_name('detection_scores:0')\n",
    "classes = detection_graph.get_tensor_by_name('detection_classes:0')\n",
    "num_detections = detection_graph.get_tensor_by_name('num_detections:0')\n",
    "\n",
    "# Actual detection.\n",
    "(boxes, scores, classes, num_detections) = sess.run(\n",
    "    [boxes, scores, classes, num_detections],\n",
    "    feed_dict={image_tensor: image_np_expanded})\n",
    "'''"
   ]
  },
  {
   "cell_type": "code",
   "execution_count": null,
   "metadata": {
    "collapsed": true
   },
   "outputs": [],
   "source": []
  }
 ],
 "metadata": {
  "kernelspec": {
   "display_name": "Python 3",
   "language": "python",
   "name": "python3"
  },
  "language_info": {
   "codemirror_mode": {
    "name": "ipython",
    "version": 3
   },
   "file_extension": ".py",
   "mimetype": "text/x-python",
   "name": "python",
   "nbconvert_exporter": "python",
   "pygments_lexer": "ipython3",
   "version": "3.6.1"
  }
 },
 "nbformat": 4,
 "nbformat_minor": 2
}
